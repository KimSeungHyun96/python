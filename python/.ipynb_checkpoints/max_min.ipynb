{
 "cells": [
  {
   "cell_type": "markdown",
   "metadata": {},
   "source": [
    "### csv파일을 불러오고 max,min의 값의 합과 평균을 구함"
   ]
  },
  {
   "cell_type": "code",
   "execution_count": 13,
   "metadata": {},
   "outputs": [
    {
     "data": {
      "text/plain": [
       "35248.91490376756"
      ]
     },
     "execution_count": 13,
     "metadata": {},
     "output_type": "execute_result"
    }
   ],
   "source": [
    "# 라이브러리 선언\n",
    "import pandas as pd\n",
    "# csv파일 읽어오기\n",
    "customerData = pd.read_csv(\"../SMART-06/dataset/kopo_customerdata.csv\")\n",
    "# TOTAL_AMOUNT를 통해 열 형해로 보이게 함\n",
    "customerTotalList = customerData[\"TOTAL_AMOUNT\"].tolist()\n",
    "# customerTotalList 정렬\n",
    "customerTotalList.sort()\n",
    "# max, min의 값을 카운트해서 List에 넣어줌\n",
    "customerMaxList = customerTotalList.count(max(customerTotalList))\n",
    "customerMinList = customerTotalList.count(min(customerTotalList))\n",
    "\n",
    "maxlist = max(customerTotalList)\n",
    "minlist = min(customerTotalList)\n",
    "# maxlist 삭제 , del의 방법으로 minList 삭제\n",
    "customerTotalList.remove(maxlist)\n",
    "del customerTotalList[:customerMinList]\n",
    "# sum / len으로 평균도출\n",
    "average = sum( (customerTotalList)) / len( (customerTotalList))\n",
    "\n",
    "average\n",
    "# del customerTotalList[customerMaxList]\n",
    "# del customerTotalList[customerMinList]\n",
    "\n",
    "# average = sum( (customerTotalList)) / len( (customerTotalList))\n",
    "\n",
    "# average"
   ]
  }
 ],
 "metadata": {
  "kernelspec": {
   "display_name": "Python 3",
   "language": "python",
   "name": "python3"
  },
  "language_info": {
   "codemirror_mode": {
    "name": "ipython",
    "version": 3
   },
   "file_extension": ".py",
   "mimetype": "text/x-python",
   "name": "python",
   "nbconvert_exporter": "python",
   "pygments_lexer": "ipython3",
   "version": "3.8.3"
  }
 },
 "nbformat": 4,
 "nbformat_minor": 4
}
