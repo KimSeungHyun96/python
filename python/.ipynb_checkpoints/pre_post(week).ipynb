{
 "cells": [
  {
   "cell_type": "markdown",
   "metadata": {},
   "source": [
    "### preweek 사용"
   ]
  },
  {
   "cell_type": "code",
   "execution_count": null,
   "metadata": {},
   "outputs": [],
   "source": [
    "# 라이브러리 불러오기\n",
    "from isoweek import Week\n",
    "# input 변수 지정\n",
    "inputYearWeek=input() #\n",
    "inputWeek=int(input())\n",
    "# preWeek 함수로 정의 인덱스로 년도 및 주차 계산\n",
    "def preWeek(inputYearWeek, inputWeek):\n",
    "    #yearWeek = str(yearWeek)\n",
    "    year = int(inputYearWeek[0:4])\n",
    "    week1 = int(inputYearWeek[4:])\n",
    "    calcWeek = week1 - inputWeek\n",
    "   # 년도 몇주차 인지 자동계산 함수를 변수 maxWeek 담기\n",
    "    maxWeek = Week.last_week_of_year(year).week\n",
    "    # if 문으로 주차 계산\n",
    "    if ( week1 > inputWeek) :      # 예) 2020.20(week1)>10(inputWeek) 그냥 빼기\n",
    "        answerWeek1=str(int(inputYearWeek)-inputWeek)\n",
    "        print(answerWeek1)\n",
    "    while calcWeek <= 0:\n",
    "        year = year - 1\n",
    "        calcWeek = maxWeek + calcWeek\n",
    "        if(calcWeek < 10):\n",
    "            outValue = str(year) + \"0\" + str(calcWeek)\n",
    "        else:\n",
    "            outValue = str(year) + str(calcWeek)\n",
    "    return outValue\n",
    "\n",
    "preWeek(inputYearWeek, inputWeek)"
   ]
  },
  {
   "cell_type": "markdown",
   "metadata": {},
   "source": [
    "### postweek 사용"
   ]
  },
  {
   "cell_type": "code",
   "execution_count": null,
   "metadata": {},
   "outputs": [],
   "source": [
    "def postWeek(yearWeek, postWeek):  #postWeek 이후 주차를 반환하는 함수\n",
    "    from isoweek import Week\n",
    "    yeardigit = -2\n",
    "    inputYear = int(str(yearWeek)[:yeardigit]) #년도만 잘라서 저장\n",
    "    inputWeek = int(str(yearWeek)[yeardigit:]) #주차만 잘라서 저장\n",
    "    resultWeek = inputWeek + postWeek           #현 주차 + 뒤로 갈 주차 계산결과\n",
    "    calcWeek = Week.last_week_of_year(inputYear).week\n",
    "    \n",
    "    while(resultWeek>calcWeek):       # 주차가 넘어간다면\n",
    "        inputYear = inputYear+1    # 년도가 하나 늘어납니다\n",
    "        calcWeek = Week.last_week_of_year(inputYear).week  #늘어난 년도의 총 주차수\n",
    "        resultWeek = resultWeek - calcWeek\n",
    "        #resultWeek 에서 총 주차를 빼줍니다\n",
    "        #결과가 아직도 총 주차보다 크다면 작아질때까지계속 반복\n",
    "    \n",
    "#     if(resultWeek<10):\n",
    "#         resultWeek = \"0\"+str(resultWeek) # 1자릿수면 앞에 0을 붙여줌 -> zfill()로 처리.\n",
    "        \n",
    "    result = str(inputYear)+str(resultWeek).zfill(2) #년도와 주차를 문자열로 더해서 출력\n",
    "    \n",
    "    return result"
   ]
  }
 ],
 "metadata": {
  "kernelspec": {
   "display_name": "Python 3",
   "language": "python",
   "name": "python3"
  },
  "language_info": {
   "codemirror_mode": {
    "name": "ipython",
    "version": 3
   },
   "file_extension": ".py",
   "mimetype": "text/x-python",
   "name": "python",
   "nbconvert_exporter": "python",
   "pygments_lexer": "ipython3",
   "version": "3.8.3"
  }
 },
 "nbformat": 4,
 "nbformat_minor": 4
}
