{
 "cells": [
  {
   "cell_type": "code",
   "execution_count": 10,
   "metadata": {},
   "outputs": [
    {
     "name": "stdout",
     "output_type": "stream",
     "text": [
      "[19 17 17 15 13 13 13 12 12  9  8  8  7  6  5  5  4  2  2  1]\n"
     ]
    }
   ],
   "source": [
    "import numpy as np\n",
    "# random으로 randint 함수를 통해 1~20까지의 배열과 size=20의 값을 생성\n",
    "arr = np.random.randint(1, 20, size=20)\n",
    "\n",
    "arr\n",
    "# 생성된 배열을 버플정렬\n",
    "for i in range(0, len(arr)):\n",
    "    for j in range(i+1, len(arr)):\n",
    "        if (arr[i] < arr[j]):\n",
    "            arr1=arr[i];\t\n",
    "            arr[i]=arr[j]; \n",
    "            arr[j]=arr1;\n",
    "\n",
    "print(arr)"
   ]
  }
 ],
 "metadata": {
  "kernelspec": {
   "display_name": "Python 3",
   "language": "python",
   "name": "python3"
  },
  "language_info": {
   "codemirror_mode": {
    "name": "ipython",
    "version": 3
   },
   "file_extension": ".py",
   "mimetype": "text/x-python",
   "name": "python",
   "nbconvert_exporter": "python",
   "pygments_lexer": "ipython3",
   "version": "3.8.3"
  }
 },
 "nbformat": 4,
 "nbformat_minor": 4
}
