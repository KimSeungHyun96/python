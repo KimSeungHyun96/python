{
 "cells": [
  {
   "cell_type": "markdown",
   "metadata": {},
   "source": [
    "### 라이브러리 정의"
   ]
  },
  {
   "cell_type": "code",
   "execution_count": 2,
   "metadata": {},
   "outputs": [],
   "source": [
    "# 데이터 처리 라이브러리\n",
    "import pandas as pd\n",
    "import numpy as np\n",
    "# 분석알고리즘 DecisionTree 구현 라이브러리\n",
    "from sklearn.tree import DecisionTreeRegressor # 설명도가 높아짐\n",
    "# 과거데이터를 8:2, 7:3 이나 이런식으로 자동으로 나누어주는 라이브러리\n",
    "from sklearn.model_selection import train_test_split\n",
    "\n",
    "from sklearn.ensemble import RandomForestRegressor  # 설명은 낮지만 정확도가 높아짐\n",
    "from sklearn.linear_model import LinearRegression # YES or NO\n",
    "\n",
    "from sklearn.preprocessing import LabelEncoder  # 숫자로 만들어주는..\n",
    "# 분석 Regression 평가 대표 지표 (MAE, RMSE)\n",
    "from sklearn.metrics import mean_absolute_error # MAE\n",
    "from sklearn.metrics import mean_squared_error # RMSE"
   ]
  },
  {
   "cell_type": "markdown",
   "metadata": {},
   "source": [
    "### 데이터 불러오기"
   ]
  },
  {
   "cell_type": "code",
   "execution_count": 3,
   "metadata": {},
   "outputs": [
    {
     "data": {
      "text/html": [
       "<div>\n",
       "<style scoped>\n",
       "    .dataframe tbody tr th:only-of-type {\n",
       "        vertical-align: middle;\n",
       "    }\n",
       "\n",
       "    .dataframe tbody tr th {\n",
       "        vertical-align: top;\n",
       "    }\n",
       "\n",
       "    .dataframe thead th {\n",
       "        text-align: right;\n",
       "    }\n",
       "</style>\n",
       "<table border=\"1\" class=\"dataframe\">\n",
       "  <thead>\n",
       "    <tr style=\"text-align: right;\">\n",
       "      <th></th>\n",
       "      <th>REGIONID</th>\n",
       "      <th>PRODUCTGROUP</th>\n",
       "      <th>PRODUCT</th>\n",
       "      <th>ITEM</th>\n",
       "      <th>YEARWEEK</th>\n",
       "      <th>YEAR</th>\n",
       "      <th>WEEK</th>\n",
       "      <th>QTY</th>\n",
       "      <th>HOLIDAY</th>\n",
       "      <th>HCLUS</th>\n",
       "      <th>PROMOTION</th>\n",
       "      <th>PRO_PERCENT</th>\n",
       "    </tr>\n",
       "  </thead>\n",
       "  <tbody>\n",
       "    <tr>\n",
       "      <th>0</th>\n",
       "      <td>SEOUL_BANK_001</td>\n",
       "      <td>PG02</td>\n",
       "      <td>PRODUCT0010</td>\n",
       "      <td>ITEM0115</td>\n",
       "      <td>201501</td>\n",
       "      <td>2015</td>\n",
       "      <td>1</td>\n",
       "      <td>1225</td>\n",
       "      <td>Y</td>\n",
       "      <td>1</td>\n",
       "      <td>Y</td>\n",
       "      <td>0.209442</td>\n",
       "    </tr>\n",
       "    <tr>\n",
       "      <th>1</th>\n",
       "      <td>SEOUL_BANK_001</td>\n",
       "      <td>PG02</td>\n",
       "      <td>PRODUCT0010</td>\n",
       "      <td>ITEM0115</td>\n",
       "      <td>201502</td>\n",
       "      <td>2015</td>\n",
       "      <td>2</td>\n",
       "      <td>968</td>\n",
       "      <td>N</td>\n",
       "      <td>4</td>\n",
       "      <td>Y</td>\n",
       "      <td>0.209442</td>\n",
       "    </tr>\n",
       "  </tbody>\n",
       "</table>\n",
       "</div>"
      ],
      "text/plain": [
       "         REGIONID PRODUCTGROUP      PRODUCT      ITEM  YEARWEEK  YEAR  WEEK  \\\n",
       "0  SEOUL_BANK_001         PG02  PRODUCT0010  ITEM0115    201501  2015     1   \n",
       "1  SEOUL_BANK_001         PG02  PRODUCT0010  ITEM0115    201502  2015     2   \n",
       "\n",
       "    QTY HOLIDAY  HCLUS PROMOTION  PRO_PERCENT  \n",
       "0  1225       Y      1         Y     0.209442  \n",
       "1   968       N      4         Y     0.209442  "
      ]
     },
     "execution_count": 3,
     "metadata": {},
     "output_type": "execute_result"
    }
   ],
   "source": [
    "featuresData = pd.read_csv(\"../dataset/feature_regression_example.csv\")\n",
    "featuresData.head(2)"
   ]
  },
  {
   "cell_type": "markdown",
   "metadata": {},
   "source": [
    "### 1. 데이터 전처리"
   ]
  },
  {
   "cell_type": "markdown",
   "metadata": {},
   "source": [
    "### 1-1. 타입 통합 / 특성 숫자컬럼 추가"
   ]
  },
  {
   "cell_type": "markdown",
   "metadata": {},
   "source": [
    "### 1-1-1. 데이터 타입 통합"
   ]
  },
  {
   "cell_type": "code",
   "execution_count": 4,
   "metadata": {},
   "outputs": [],
   "source": [
    "# featuresData.info()"
   ]
  },
  {
   "cell_type": "code",
   "execution_count": 5,
   "metadata": {},
   "outputs": [],
   "source": [
    "# 주의할 사항은 모든 컬럼에 대해서 고정시키는걸 고려햐는게 나을수도 있다\n",
    "featuresData.QTY = featuresData.QTY.astype(float)"
   ]
  },
  {
   "cell_type": "markdown",
   "metadata": {},
   "source": [
    "### 1-1-2. 특성 값 숫자컬럼 변경"
   ]
  },
  {
   "cell_type": "code",
   "execution_count": 6,
   "metadata": {},
   "outputs": [
    {
     "data": {
      "text/html": [
       "<div>\n",
       "<style scoped>\n",
       "    .dataframe tbody tr th:only-of-type {\n",
       "        vertical-align: middle;\n",
       "    }\n",
       "\n",
       "    .dataframe tbody tr th {\n",
       "        vertical-align: top;\n",
       "    }\n",
       "\n",
       "    .dataframe thead th {\n",
       "        text-align: right;\n",
       "    }\n",
       "</style>\n",
       "<table border=\"1\" class=\"dataframe\">\n",
       "  <thead>\n",
       "    <tr style=\"text-align: right;\">\n",
       "      <th></th>\n",
       "      <th>REGIONID</th>\n",
       "      <th>PRODUCTGROUP</th>\n",
       "      <th>PRODUCT</th>\n",
       "      <th>ITEM</th>\n",
       "      <th>YEARWEEK</th>\n",
       "      <th>YEAR</th>\n",
       "      <th>WEEK</th>\n",
       "      <th>QTY</th>\n",
       "      <th>HOLIDAY</th>\n",
       "      <th>HCLUS</th>\n",
       "      <th>PROMOTION</th>\n",
       "      <th>PRO_PERCENT</th>\n",
       "      <th>HOLIDAY_NEW</th>\n",
       "      <th>PROMOTION_ NEW</th>\n",
       "    </tr>\n",
       "  </thead>\n",
       "  <tbody>\n",
       "    <tr>\n",
       "      <th>0</th>\n",
       "      <td>SEOUL_BANK_001</td>\n",
       "      <td>PG02</td>\n",
       "      <td>PRODUCT0010</td>\n",
       "      <td>ITEM0115</td>\n",
       "      <td>201501</td>\n",
       "      <td>2015</td>\n",
       "      <td>1</td>\n",
       "      <td>1225.0</td>\n",
       "      <td>Y</td>\n",
       "      <td>1</td>\n",
       "      <td>Y</td>\n",
       "      <td>0.209442</td>\n",
       "      <td>1</td>\n",
       "      <td>1</td>\n",
       "    </tr>\n",
       "    <tr>\n",
       "      <th>1</th>\n",
       "      <td>SEOUL_BANK_001</td>\n",
       "      <td>PG02</td>\n",
       "      <td>PRODUCT0010</td>\n",
       "      <td>ITEM0115</td>\n",
       "      <td>201502</td>\n",
       "      <td>2015</td>\n",
       "      <td>2</td>\n",
       "      <td>968.0</td>\n",
       "      <td>N</td>\n",
       "      <td>4</td>\n",
       "      <td>Y</td>\n",
       "      <td>0.209442</td>\n",
       "      <td>0</td>\n",
       "      <td>1</td>\n",
       "    </tr>\n",
       "    <tr>\n",
       "      <th>2</th>\n",
       "      <td>SEOUL_BANK_001</td>\n",
       "      <td>PG02</td>\n",
       "      <td>PRODUCT0010</td>\n",
       "      <td>ITEM0115</td>\n",
       "      <td>201503</td>\n",
       "      <td>2015</td>\n",
       "      <td>3</td>\n",
       "      <td>1209.0</td>\n",
       "      <td>N</td>\n",
       "      <td>4</td>\n",
       "      <td>Y</td>\n",
       "      <td>0.208155</td>\n",
       "      <td>0</td>\n",
       "      <td>1</td>\n",
       "    </tr>\n",
       "  </tbody>\n",
       "</table>\n",
       "</div>"
      ],
      "text/plain": [
       "         REGIONID PRODUCTGROUP      PRODUCT      ITEM  YEARWEEK  YEAR  WEEK  \\\n",
       "0  SEOUL_BANK_001         PG02  PRODUCT0010  ITEM0115    201501  2015     1   \n",
       "1  SEOUL_BANK_001         PG02  PRODUCT0010  ITEM0115    201502  2015     2   \n",
       "2  SEOUL_BANK_001         PG02  PRODUCT0010  ITEM0115    201503  2015     3   \n",
       "\n",
       "      QTY HOLIDAY  HCLUS PROMOTION  PRO_PERCENT  HOLIDAY_NEW  PROMOTION_ NEW  \n",
       "0  1225.0       Y      1         Y     0.209442            1               1  \n",
       "1   968.0       N      4         Y     0.209442            0               1  \n",
       "2  1209.0       N      4         Y     0.208155            0               1  "
      ]
     },
     "execution_count": 6,
     "metadata": {},
     "output_type": "execute_result"
    }
   ],
   "source": [
    "def valueClustering(inValue):\n",
    "    if inValue == \"Y\":\n",
    "        outValue = 1\n",
    "    else:\n",
    "         outValue = 0\n",
    "    return outValue\n",
    "\n",
    "featuresData[\"HOLIDAY_NEW\"] = featuresData.HOLIDAY.apply(valueClustering)\n",
    "featuresData[\"PROMOTION_ NEW\"] = featuresData.PROMOTION.apply(valueClustering)\n",
    "\n",
    "featuresData.head(3)"
   ]
  },
  {
   "cell_type": "markdown",
   "metadata": {},
   "source": [
    "LabelEncoder 사용법"
   ]
  },
  {
   "cell_type": "code",
   "execution_count": null,
   "metadata": {},
   "outputs": [],
   "source": [
    "# from sklearn.preprocessing import LabelEncoder\n",
    "# # 머신러닝/딥러닝 Label인코더 -> 문자 -> 숫자로 매핑시켜준다.\n",
    "# holiEn = LabelEncoder()\n",
    "# # featuresData.HOLIDAY를 알아서 1, 0 으로 변환시켜준다.\n",
    "# featuresData[\"HOLIDAY_LABEL_EN\"] = holiEn.fit_transform(featuresData.HOLIDAY)\n",
    "# # 다시 전 단계로 돌아간다.\n",
    "# featuresData[\"HOLIDAY_DE\"] = holiEn.inverse_transform(featuresData.HOLIDAY_LABEL_EN)\n",
    "# # 결과값이 달라졌는지 확인하기 위함\n",
    "# featuresData.loc[featuresData.HOLIDAY != featuresData.HOLIDAY_DE]"
   ]
  },
  {
   "cell_type": "markdown",
   "metadata": {},
   "source": [
    "### 1-2. 특성 선정 / 데이터 분리"
   ]
  },
  {
   "cell_type": "markdown",
   "metadata": {},
   "source": [
    "### 1-2-1. 특성 선정"
   ]
  },
  {
   "cell_type": "code",
   "execution_count": 8,
   "metadata": {},
   "outputs": [],
   "source": [
    "corrDf = featuresData.corr()\n",
    "standardLimit = 0.5\n",
    "features = list(corrDf.loc[ ( abs(corrDf.QTY) > standardLimit ) & (corrDf.QTY != 1) ].index )\n",
    "label = [\"QTY\"]"
   ]
  },
  {
   "cell_type": "markdown",
   "metadata": {},
   "source": [
    "### 1-2-2. 데이터 분리"
   ]
  },
  {
   "cell_type": "code",
   "execution_count": 12,
   "metadata": {},
   "outputs": [],
   "source": [
    "# features: 문제지 / label: 정답지\n",
    "\n",
    "standardIndex = 0.8\n",
    "# featuresData.shape\n",
    "sortKey = [\"REGIONID\",\"ITEM\",\"YEARWEEK\"]\n",
    "sortedData = featuresData.sort_values(sortKey, ignore_index=True)\n",
    "\n",
    "# 정렬하고 80%에 있는 인덱스의 번호로 분리\n",
    "# sortedData.shape\n",
    "selectedIndex = int( list( sortedData.shape )[0] * standardIndex )\n",
    "\n",
    "yearweekStd = sortedData.loc[selectedIndex].YEARWEEK"
   ]
  },
  {
   "cell_type": "code",
   "execution_count": null,
   "metadata": {},
   "outputs": [],
   "source": [
    "print(sortedData.shape)"
   ]
  },
  {
   "cell_type": "code",
   "execution_count": 18,
   "metadata": {},
   "outputs": [],
   "source": [
    "# 훈련데이터와 테스트데이터를 (문제지와 정답지로 구분해서 정의한다.)\n",
    "\n",
    "# 훈련데이터\n",
    "trainingDataFeatures = sortedData.loc[sortedData.YEARWEEK <= yearweekStd, features]\n",
    "trainingDataLabel = sortedData.loc[sortedData.YEARWEEK <= yearweekStd, label]\n",
    "\n",
    "# 테스트 데이터\n",
    "testDataFeatures = sortedData.loc[sortedData.YEARWEEK > yearweekStd, features]\n",
    "testDataLabel = sortedData.loc[sortedData.YEARWEEK > yearweekStd, label]"
   ]
  },
  {
   "cell_type": "code",
   "execution_count": null,
   "metadata": {},
   "outputs": [],
   "source": [
    "print(testDataLabel.shape)"
   ]
  },
  {
   "cell_type": "markdown",
   "metadata": {},
   "source": [
    "### 2. 모델적용"
   ]
  },
  {
   "cell_type": "markdown",
   "metadata": {},
   "source": [
    "### 2-1. 모델 적용"
   ]
  },
  {
   "cell_type": "markdown",
   "metadata": {},
   "source": [
    "### 2-1-1 학습"
   ]
  },
  {
   "cell_type": "code",
   "execution_count": 19,
   "metadata": {},
   "outputs": [],
   "source": [
    "# 모델 선언 (Decision, Random)\n",
    "model_dt = DecisionTreeRegressor(random_state=10, max_depth=1)\n",
    "model_rf = RandomForestRegressor(random_state=10)\n",
    "model_lr = LinearRegression()"
   ]
  },
  {
   "cell_type": "code",
   "execution_count": 20,
   "metadata": {},
   "outputs": [
    {
     "name": "stderr",
     "output_type": "stream",
     "text": [
      "<ipython-input-20-54507afbb5c1>:2: DataConversionWarning: A column-vector y was passed when a 1d array was expected. Please change the shape of y to (n_samples,), for example using ravel().\n",
      "  model_rf.fit(X=trainingDataFeatures, y=trainingDataLabel)\n"
     ]
    },
    {
     "data": {
      "text/plain": [
       "LinearRegression()"
      ]
     },
     "execution_count": 20,
     "metadata": {},
     "output_type": "execute_result"
    }
   ],
   "source": [
    "model_dt.fit(X=trainingDataFeatures, y=trainingDataLabel)\n",
    "model_rf.fit(X=trainingDataFeatures, y=trainingDataLabel)\n",
    "model_lr.fit(X=trainingDataFeatures, y=trainingDataLabel)"
   ]
  },
  {
   "cell_type": "markdown",
   "metadata": {},
   "source": [
    "### 3. 예측"
   ]
  },
  {
   "cell_type": "code",
   "execution_count": 21,
   "metadata": {},
   "outputs": [],
   "source": [
    "predictValueDt = model_dt.predict(testDataFeatures)\n",
    "predictValueRf = model_rf.predict(testDataFeatures)\n",
    "predictValueLr = model_lr.predict(testDataFeatures)"
   ]
  },
  {
   "cell_type": "code",
   "execution_count": 22,
   "metadata": {},
   "outputs": [],
   "source": [
    "testDataAll = featuresData.loc[ testDataFeatures.index ] "
   ]
  },
  {
   "cell_type": "code",
   "execution_count": 23,
   "metadata": {},
   "outputs": [],
   "source": [
    "testDataAll[\"PREDICT_DT\"] = predictValueDt\n",
    "testDataAll[\"PREDICT_RF\"] = predictValueRf"
   ]
  },
  {
   "cell_type": "code",
   "execution_count": 24,
   "metadata": {},
   "outputs": [],
   "source": [
    "testDataAll[\"PREDICT_LR\"] = predictValueLr"
   ]
  },
  {
   "cell_type": "code",
   "execution_count": null,
   "metadata": {},
   "outputs": [],
   "source": [
    "# 장점\n",
    "# DecisionTree => 과거의 경험치를 그대로 반영, 변동성이 큰 데이터에서 강함 / 설명력이 강함\n",
    "# 단점 \n",
    "# 오버피팅 문제 [너무 과거에 매어있음]\n",
    "# 해결 : randomforest \n",
    "# 장점 : DecisionTree의 오버피팅을 해결\n",
    "# 단점 : 설명력이 조금 어렵다.\n",
    "# 기타 : \n",
    "# AutoMl -> 모델을 기계가 알아서 선택"
   ]
  },
  {
   "cell_type": "code",
   "execution_count": 25,
   "metadata": {},
   "outputs": [],
   "source": [
    "predictDtMae = mean_absolute_error(y_true=testDataAll.QTY, y_pred=testDataAll.PREDICT_DT )\n",
    "predictRfMae = mean_absolute_error(y_true=testDataAll.QTY, y_pred=testDataAll.PREDICT_RF )\n",
    "predictLrMae = mean_absolute_error(y_true=testDataAll.QTY, y_pred=testDataAll.PREDICT_LR )"
   ]
  },
  {
   "cell_type": "code",
   "execution_count": 26,
   "metadata": {},
   "outputs": [],
   "source": [
    "errorReportDf = pd.DataFrame( [[ predictDtMae, predictRfMae,predictLrMae     ]],\n",
    "            columns=[\"DT_MAE\",\"RF_MAE\",\"LR_MAE\"])"
   ]
  },
  {
   "cell_type": "code",
   "execution_count": 27,
   "metadata": {},
   "outputs": [
    {
     "data": {
      "text/html": [
       "<div>\n",
       "<style scoped>\n",
       "    .dataframe tbody tr th:only-of-type {\n",
       "        vertical-align: middle;\n",
       "    }\n",
       "\n",
       "    .dataframe tbody tr th {\n",
       "        vertical-align: top;\n",
       "    }\n",
       "\n",
       "    .dataframe thead th {\n",
       "        text-align: right;\n",
       "    }\n",
       "</style>\n",
       "<table border=\"1\" class=\"dataframe\">\n",
       "  <thead>\n",
       "    <tr style=\"text-align: right;\">\n",
       "      <th></th>\n",
       "      <th>DT_MAE</th>\n",
       "      <th>RF_MAE</th>\n",
       "      <th>LR_MAE</th>\n",
       "    </tr>\n",
       "  </thead>\n",
       "  <tbody>\n",
       "    <tr>\n",
       "      <th>0</th>\n",
       "      <td>522.448884</td>\n",
       "      <td>398.759886</td>\n",
       "      <td>625.493983</td>\n",
       "    </tr>\n",
       "  </tbody>\n",
       "</table>\n",
       "</div>"
      ],
      "text/plain": [
       "       DT_MAE      RF_MAE      LR_MAE\n",
       "0  522.448884  398.759886  625.493983"
      ]
     },
     "execution_count": 27,
     "metadata": {},
     "output_type": "execute_result"
    }
   ],
   "source": [
    "errorReportDf"
   ]
  },
  {
   "cell_type": "code",
   "execution_count": 28,
   "metadata": {},
   "outputs": [
    {
     "data": {
      "text/plain": [
       "['HCLUS', 'PRO_PERCENT', 'HOLIDAY_NEW', 'PROMOTION_NEW']"
      ]
     },
     "execution_count": 28,
     "metadata": {},
     "output_type": "execute_result"
    }
   ],
   "source": [
    "features"
   ]
  },
  {
   "cell_type": "code",
   "execution_count": 29,
   "metadata": {},
   "outputs": [],
   "source": [
    "# 대휴일 1 소휴일 4\n",
    "userInputHCLUS = 1\n",
    "# 제품 할인 %\n",
    "userInputProPercent=0.5\n",
    "# 홀리데이 유무 Y= 1 N = 0\n",
    "userInputHoilidayYn = 1\n",
    "# 프로모션 유무 Y=1 N= 0\n",
    "userInputPromotionYn = 1"
   ]
  },
  {
   "cell_type": "code",
   "execution_count": 30,
   "metadata": {},
   "outputs": [],
   "source": [
    "futureData = pd.DataFrame([[ userInputHCLUS,\n",
    "              userInputProPercent,\n",
    "              userInputHoilidayYn,\n",
    "              userInputPromotionYn]]   )"
   ]
  },
  {
   "cell_type": "code",
   "execution_count": 31,
   "metadata": {},
   "outputs": [
    {
     "data": {
      "text/plain": [
       "array([2062.85714286])"
      ]
     },
     "execution_count": 31,
     "metadata": {},
     "output_type": "execute_result"
    }
   ],
   "source": [
    "# pickle 파일로 저장가능하다.\n",
    "model_dt.predict(futureData)"
   ]
  },
  {
   "cell_type": "code",
   "execution_count": 32,
   "metadata": {},
   "outputs": [
    {
     "data": {
      "text/plain": [
       "(85, 4)"
      ]
     },
     "execution_count": 32,
     "metadata": {},
     "output_type": "execute_result"
    }
   ],
   "source": [
    "trainingDataFeatures.shape"
   ]
  },
  {
   "cell_type": "code",
   "execution_count": 33,
   "metadata": {},
   "outputs": [],
   "source": [
    "treeStep1 = trainingDataFeatures.loc[trainingDataFeatures.PRO_PERCENT > 0.259]"
   ]
  },
  {
   "cell_type": "code",
   "execution_count": 34,
   "metadata": {},
   "outputs": [],
   "source": [
    "treeStep2 = treeStep1.loc[treeStep1.PRO_PERCENT > 0.294]"
   ]
  },
  {
   "cell_type": "code",
   "execution_count": 35,
   "metadata": {},
   "outputs": [],
   "source": [
    "treeStep3 = treeStep2.loc[treeStep2.HCLUS > 0.5]"
   ]
  },
  {
   "cell_type": "code",
   "execution_count": 36,
   "metadata": {},
   "outputs": [
    {
     "data": {
      "text/plain": [
       "Int64Index([77, 78, 79, 80, 81], dtype='int64')"
      ]
     },
     "execution_count": 36,
     "metadata": {},
     "output_type": "execute_result"
    }
   ],
   "source": [
    "treeStep3.index"
   ]
  },
  {
   "cell_type": "code",
   "execution_count": 37,
   "metadata": {},
   "outputs": [
    {
     "data": {
      "text/html": [
       "<div>\n",
       "<style scoped>\n",
       "    .dataframe tbody tr th:only-of-type {\n",
       "        vertical-align: middle;\n",
       "    }\n",
       "\n",
       "    .dataframe tbody tr th {\n",
       "        vertical-align: top;\n",
       "    }\n",
       "\n",
       "    .dataframe thead th {\n",
       "        text-align: right;\n",
       "    }\n",
       "</style>\n",
       "<table border=\"1\" class=\"dataframe\">\n",
       "  <thead>\n",
       "    <tr style=\"text-align: right;\">\n",
       "      <th></th>\n",
       "      <th>REGIONID</th>\n",
       "      <th>PRODUCTGROUP</th>\n",
       "      <th>PRODUCT</th>\n",
       "      <th>ITEM</th>\n",
       "      <th>YEARWEEK</th>\n",
       "      <th>YEAR</th>\n",
       "      <th>WEEK</th>\n",
       "      <th>QTY</th>\n",
       "      <th>HOLIDAY</th>\n",
       "      <th>HCLUS</th>\n",
       "      <th>PROMOTION</th>\n",
       "      <th>PRO_PERCENT</th>\n",
       "      <th>HOLIDAY_NEW</th>\n",
       "      <th>PROMOTION_NEW</th>\n",
       "    </tr>\n",
       "  </thead>\n",
       "  <tbody>\n",
       "    <tr>\n",
       "      <th>77</th>\n",
       "      <td>SEOUL_BANK_001</td>\n",
       "      <td>PG02</td>\n",
       "      <td>PRODUCT0010</td>\n",
       "      <td>ITEM0115</td>\n",
       "      <td>201625</td>\n",
       "      <td>2016</td>\n",
       "      <td>25</td>\n",
       "      <td>968.0</td>\n",
       "      <td>Y</td>\n",
       "      <td>1</td>\n",
       "      <td>Y</td>\n",
       "      <td>0.308584</td>\n",
       "      <td>1</td>\n",
       "      <td>1</td>\n",
       "    </tr>\n",
       "    <tr>\n",
       "      <th>78</th>\n",
       "      <td>SEOUL_BANK_001</td>\n",
       "      <td>PG02</td>\n",
       "      <td>PRODUCT0010</td>\n",
       "      <td>ITEM0115</td>\n",
       "      <td>201626</td>\n",
       "      <td>2016</td>\n",
       "      <td>26</td>\n",
       "      <td>1685.0</td>\n",
       "      <td>Y</td>\n",
       "      <td>1</td>\n",
       "      <td>Y</td>\n",
       "      <td>0.308584</td>\n",
       "      <td>1</td>\n",
       "      <td>1</td>\n",
       "    </tr>\n",
       "    <tr>\n",
       "      <th>79</th>\n",
       "      <td>SEOUL_BANK_001</td>\n",
       "      <td>PG02</td>\n",
       "      <td>PRODUCT0010</td>\n",
       "      <td>ITEM0115</td>\n",
       "      <td>201627</td>\n",
       "      <td>2016</td>\n",
       "      <td>27</td>\n",
       "      <td>1586.0</td>\n",
       "      <td>Y</td>\n",
       "      <td>1</td>\n",
       "      <td>Y</td>\n",
       "      <td>0.308584</td>\n",
       "      <td>1</td>\n",
       "      <td>1</td>\n",
       "    </tr>\n",
       "    <tr>\n",
       "      <th>80</th>\n",
       "      <td>SEOUL_BANK_001</td>\n",
       "      <td>PG02</td>\n",
       "      <td>PRODUCT0010</td>\n",
       "      <td>ITEM0115</td>\n",
       "      <td>201628</td>\n",
       "      <td>2016</td>\n",
       "      <td>28</td>\n",
       "      <td>1616.0</td>\n",
       "      <td>Y</td>\n",
       "      <td>1</td>\n",
       "      <td>Y</td>\n",
       "      <td>0.308584</td>\n",
       "      <td>1</td>\n",
       "      <td>1</td>\n",
       "    </tr>\n",
       "    <tr>\n",
       "      <th>81</th>\n",
       "      <td>SEOUL_BANK_001</td>\n",
       "      <td>PG02</td>\n",
       "      <td>PRODUCT0010</td>\n",
       "      <td>ITEM0115</td>\n",
       "      <td>201629</td>\n",
       "      <td>2016</td>\n",
       "      <td>29</td>\n",
       "      <td>1318.0</td>\n",
       "      <td>Y</td>\n",
       "      <td>1</td>\n",
       "      <td>Y</td>\n",
       "      <td>0.308584</td>\n",
       "      <td>1</td>\n",
       "      <td>1</td>\n",
       "    </tr>\n",
       "  </tbody>\n",
       "</table>\n",
       "</div>"
      ],
      "text/plain": [
       "          REGIONID PRODUCTGROUP      PRODUCT      ITEM  YEARWEEK  YEAR  WEEK  \\\n",
       "77  SEOUL_BANK_001         PG02  PRODUCT0010  ITEM0115    201625  2016    25   \n",
       "78  SEOUL_BANK_001         PG02  PRODUCT0010  ITEM0115    201626  2016    26   \n",
       "79  SEOUL_BANK_001         PG02  PRODUCT0010  ITEM0115    201627  2016    27   \n",
       "80  SEOUL_BANK_001         PG02  PRODUCT0010  ITEM0115    201628  2016    28   \n",
       "81  SEOUL_BANK_001         PG02  PRODUCT0010  ITEM0115    201629  2016    29   \n",
       "\n",
       "       QTY HOLIDAY  HCLUS PROMOTION  PRO_PERCENT  HOLIDAY_NEW  PROMOTION_NEW  \n",
       "77   968.0       Y      1         Y     0.308584            1              1  \n",
       "78  1685.0       Y      1         Y     0.308584            1              1  \n",
       "79  1586.0       Y      1         Y     0.308584            1              1  \n",
       "80  1616.0       Y      1         Y     0.308584            1              1  \n",
       "81  1318.0       Y      1         Y     0.308584            1              1  "
      ]
     },
     "execution_count": 37,
     "metadata": {},
     "output_type": "execute_result"
    }
   ],
   "source": [
    "featuresData.loc[  treeStep3.index ]"
   ]
  },
  {
   "cell_type": "code",
   "execution_count": 38,
   "metadata": {},
   "outputs": [
    {
     "data": {
      "text/plain": [
       "1434.6"
      ]
     },
     "execution_count": 38,
     "metadata": {},
     "output_type": "execute_result"
    }
   ],
   "source": [
    "trainingDataLabel.loc[treeStep3.index].QTY.mean()"
   ]
  },
  {
   "cell_type": "markdown",
   "metadata": {},
   "source": [
    "# graphviz 시각화"
   ]
  },
  {
   "cell_type": "code",
   "execution_count": 39,
   "metadata": {},
   "outputs": [
    {
     "data": {
      "image/svg+xml": [
       "<?xml version=\"1.0\" encoding=\"UTF-8\" standalone=\"no\"?>\r\n",
       "<!DOCTYPE svg PUBLIC \"-//W3C//DTD SVG 1.1//EN\"\r\n",
       " \"http://www.w3.org/Graphics/SVG/1.1/DTD/svg11.dtd\">\r\n",
       "<!-- Generated by graphviz version 2.47.2 (20210527.0053)\r\n",
       " -->\r\n",
       "<!-- Title: Tree Pages: 1 -->\r\n",
       "<svg width=\"1095pt\" height=\"581pt\"\r\n",
       " viewBox=\"0.00 0.00 1094.50 581.00\" xmlns=\"http://www.w3.org/2000/svg\" xmlns:xlink=\"http://www.w3.org/1999/xlink\">\r\n",
       "<g id=\"graph0\" class=\"graph\" transform=\"scale(1 1) rotate(0) translate(4 577)\">\r\n",
       "<title>Tree</title>\r\n",
       "<polygon fill=\"white\" stroke=\"transparent\" points=\"-4,4 -4,-577 1090.5,-577 1090.5,4 -4,4\"/>\r\n",
       "<!-- 0 -->\r\n",
       "<g id=\"node1\" class=\"node\">\r\n",
       "<title>0</title>\r\n",
       "<polygon fill=\"none\" stroke=\"black\" points=\"548.5,-573 429.5,-573 429.5,-505 548.5,-505 548.5,-573\"/>\r\n",
       "<text text-anchor=\"middle\" x=\"489\" y=\"-557.8\" font-family=\"Times New Roman,serif\" font-size=\"14.00\">X[1] &lt;= 0.224</text>\r\n",
       "<text text-anchor=\"middle\" x=\"489\" y=\"-542.8\" font-family=\"Times New Roman,serif\" font-size=\"14.00\">mse = 705743.893</text>\r\n",
       "<text text-anchor=\"middle\" x=\"489\" y=\"-527.8\" font-family=\"Times New Roman,serif\" font-size=\"14.00\">samples = 54</text>\r\n",
       "<text text-anchor=\"middle\" x=\"489\" y=\"-512.8\" font-family=\"Times New Roman,serif\" font-size=\"14.00\">value = 1091.035</text>\r\n",
       "</g>\r\n",
       "<!-- 1 -->\r\n",
       "<g id=\"node2\" class=\"node\">\r\n",
       "<title>1</title>\r\n",
       "<polygon fill=\"none\" stroke=\"black\" points=\"420.5,-469 301.5,-469 301.5,-401 420.5,-401 420.5,-469\"/>\r\n",
       "<text text-anchor=\"middle\" x=\"361\" y=\"-453.8\" font-family=\"Times New Roman,serif\" font-size=\"14.00\">X[3] &lt;= 0.5</text>\r\n",
       "<text text-anchor=\"middle\" x=\"361\" y=\"-438.8\" font-family=\"Times New Roman,serif\" font-size=\"14.00\">mse = 179791.215</text>\r\n",
       "<text text-anchor=\"middle\" x=\"361\" y=\"-423.8\" font-family=\"Times New Roman,serif\" font-size=\"14.00\">samples = 35</text>\r\n",
       "<text text-anchor=\"middle\" x=\"361\" y=\"-408.8\" font-family=\"Times New Roman,serif\" font-size=\"14.00\">value = 655.145</text>\r\n",
       "</g>\r\n",
       "<!-- 0&#45;&gt;1 -->\r\n",
       "<g id=\"edge1\" class=\"edge\">\r\n",
       "<title>0&#45;&gt;1</title>\r\n",
       "<path fill=\"none\" stroke=\"black\" d=\"M447.44,-504.88C435.71,-495.53 422.82,-485.26 410.65,-475.57\"/>\r\n",
       "<polygon fill=\"black\" stroke=\"black\" points=\"412.79,-472.79 402.79,-469.3 408.43,-478.27 412.79,-472.79\"/>\r\n",
       "<text text-anchor=\"middle\" x=\"405.6\" y=\"-490.44\" font-family=\"Times New Roman,serif\" font-size=\"14.00\">True</text>\r\n",
       "</g>\r\n",
       "<!-- 16 -->\r\n",
       "<g id=\"node17\" class=\"node\">\r\n",
       "<title>16</title>\r\n",
       "<polygon fill=\"none\" stroke=\"black\" points=\"684.5,-469 565.5,-469 565.5,-401 684.5,-401 684.5,-469\"/>\r\n",
       "<text text-anchor=\"middle\" x=\"625\" y=\"-453.8\" font-family=\"Times New Roman,serif\" font-size=\"14.00\">X[1] &lt;= 0.259</text>\r\n",
       "<text text-anchor=\"middle\" x=\"625\" y=\"-438.8\" font-family=\"Times New Roman,serif\" font-size=\"14.00\">mse = 683046.272</text>\r\n",
       "<text text-anchor=\"middle\" x=\"625\" y=\"-423.8\" font-family=\"Times New Roman,serif\" font-size=\"14.00\">samples = 19</text>\r\n",
       "<text text-anchor=\"middle\" x=\"625\" y=\"-408.8\" font-family=\"Times New Roman,serif\" font-size=\"14.00\">value = 1890.167</text>\r\n",
       "</g>\r\n",
       "<!-- 0&#45;&gt;16 -->\r\n",
       "<g id=\"edge16\" class=\"edge\">\r\n",
       "<title>0&#45;&gt;16</title>\r\n",
       "<path fill=\"none\" stroke=\"black\" d=\"M533.16,-504.88C545.63,-495.53 559.32,-485.26 572.24,-475.57\"/>\r\n",
       "<polygon fill=\"black\" stroke=\"black\" points=\"574.7,-478.1 580.6,-469.3 570.5,-472.5 574.7,-478.1\"/>\r\n",
       "<text text-anchor=\"middle\" x=\"577.07\" y=\"-490.35\" font-family=\"Times New Roman,serif\" font-size=\"14.00\">False</text>\r\n",
       "</g>\r\n",
       "<!-- 2 -->\r\n",
       "<g id=\"node3\" class=\"node\">\r\n",
       "<title>2</title>\r\n",
       "<polygon fill=\"none\" stroke=\"black\" points=\"223.5,-365 110.5,-365 110.5,-297 223.5,-297 223.5,-365\"/>\r\n",
       "<text text-anchor=\"middle\" x=\"167\" y=\"-349.8\" font-family=\"Times New Roman,serif\" font-size=\"14.00\">X[2] &lt;= 0.5</text>\r\n",
       "<text text-anchor=\"middle\" x=\"167\" y=\"-334.8\" font-family=\"Times New Roman,serif\" font-size=\"14.00\">mse = 61459.735</text>\r\n",
       "<text text-anchor=\"middle\" x=\"167\" y=\"-319.8\" font-family=\"Times New Roman,serif\" font-size=\"14.00\">samples = 15</text>\r\n",
       "<text text-anchor=\"middle\" x=\"167\" y=\"-304.8\" font-family=\"Times New Roman,serif\" font-size=\"14.00\">value = 343.269</text>\r\n",
       "</g>\r\n",
       "<!-- 1&#45;&gt;2 -->\r\n",
       "<g id=\"edge2\" class=\"edge\">\r\n",
       "<title>1&#45;&gt;2</title>\r\n",
       "<path fill=\"none\" stroke=\"black\" d=\"M301.48,-402.7C279.74,-391.28 255.04,-378.29 232.8,-366.59\"/>\r\n",
       "<polygon fill=\"black\" stroke=\"black\" points=\"234.24,-363.4 223.76,-361.84 230.98,-369.59 234.24,-363.4\"/>\r\n",
       "</g>\r\n",
       "<!-- 5 -->\r\n",
       "<g id=\"node6\" class=\"node\">\r\n",
       "<title>5</title>\r\n",
       "<polygon fill=\"none\" stroke=\"black\" points=\"420.5,-365 301.5,-365 301.5,-297 420.5,-297 420.5,-365\"/>\r\n",
       "<text text-anchor=\"middle\" x=\"361\" y=\"-349.8\" font-family=\"Times New Roman,serif\" font-size=\"14.00\">X[0] &lt;= 3.0</text>\r\n",
       "<text text-anchor=\"middle\" x=\"361\" y=\"-334.8\" font-family=\"Times New Roman,serif\" font-size=\"14.00\">mse = 120493.287</text>\r\n",
       "<text text-anchor=\"middle\" x=\"361\" y=\"-319.8\" font-family=\"Times New Roman,serif\" font-size=\"14.00\">samples = 20</text>\r\n",
       "<text text-anchor=\"middle\" x=\"361\" y=\"-304.8\" font-family=\"Times New Roman,serif\" font-size=\"14.00\">value = 934.759</text>\r\n",
       "</g>\r\n",
       "<!-- 1&#45;&gt;5 -->\r\n",
       "<g id=\"edge5\" class=\"edge\">\r\n",
       "<title>1&#45;&gt;5</title>\r\n",
       "<path fill=\"none\" stroke=\"black\" d=\"M361,-400.88C361,-392.78 361,-383.98 361,-375.47\"/>\r\n",
       "<polygon fill=\"black\" stroke=\"black\" points=\"364.5,-375.3 361,-365.3 357.5,-375.3 364.5,-375.3\"/>\r\n",
       "</g>\r\n",
       "<!-- 3 -->\r\n",
       "<g id=\"node4\" class=\"node\">\r\n",
       "<title>3</title>\r\n",
       "<polygon fill=\"none\" stroke=\"black\" points=\"106,-253.5 0,-253.5 0,-200.5 106,-200.5 106,-253.5\"/>\r\n",
       "<text text-anchor=\"middle\" x=\"53\" y=\"-238.3\" font-family=\"Times New Roman,serif\" font-size=\"14.00\">mse = 59435.28</text>\r\n",
       "<text text-anchor=\"middle\" x=\"53\" y=\"-223.3\" font-family=\"Times New Roman,serif\" font-size=\"14.00\">samples = 14</text>\r\n",
       "<text text-anchor=\"middle\" x=\"53\" y=\"-208.3\" font-family=\"Times New Roman,serif\" font-size=\"14.00\">value = 356.4</text>\r\n",
       "</g>\r\n",
       "<!-- 2&#45;&gt;3 -->\r\n",
       "<g id=\"edge3\" class=\"edge\">\r\n",
       "<title>2&#45;&gt;3</title>\r\n",
       "<path fill=\"none\" stroke=\"black\" d=\"M129.99,-296.88C116.84,-285.12 102.06,-271.89 88.99,-260.2\"/>\r\n",
       "<polygon fill=\"black\" stroke=\"black\" points=\"91.31,-257.58 81.52,-253.52 86.64,-262.8 91.31,-257.58\"/>\r\n",
       "</g>\r\n",
       "<!-- 4 -->\r\n",
       "<g id=\"node5\" class=\"node\">\r\n",
       "<title>4</title>\r\n",
       "<polygon fill=\"none\" stroke=\"black\" points=\"209.5,-253.5 124.5,-253.5 124.5,-200.5 209.5,-200.5 209.5,-253.5\"/>\r\n",
       "<text text-anchor=\"middle\" x=\"167\" y=\"-238.3\" font-family=\"Times New Roman,serif\" font-size=\"14.00\">mse = 0.0</text>\r\n",
       "<text text-anchor=\"middle\" x=\"167\" y=\"-223.3\" font-family=\"Times New Roman,serif\" font-size=\"14.00\">samples = 1</text>\r\n",
       "<text text-anchor=\"middle\" x=\"167\" y=\"-208.3\" font-family=\"Times New Roman,serif\" font-size=\"14.00\">value = 15.0</text>\r\n",
       "</g>\r\n",
       "<!-- 2&#45;&gt;4 -->\r\n",
       "<g id=\"edge4\" class=\"edge\">\r\n",
       "<title>2&#45;&gt;4</title>\r\n",
       "<path fill=\"none\" stroke=\"black\" d=\"M167,-296.88C167,-286.33 167,-274.6 167,-263.85\"/>\r\n",
       "<polygon fill=\"black\" stroke=\"black\" points=\"170.5,-263.52 167,-253.52 163.5,-263.52 170.5,-263.52\"/>\r\n",
       "</g>\r\n",
       "<!-- 6 -->\r\n",
       "<g id=\"node7\" class=\"node\">\r\n",
       "<title>6</title>\r\n",
       "<polygon fill=\"none\" stroke=\"black\" points=\"346.5,-261 227.5,-261 227.5,-193 346.5,-193 346.5,-261\"/>\r\n",
       "<text text-anchor=\"middle\" x=\"287\" y=\"-245.8\" font-family=\"Times New Roman,serif\" font-size=\"14.00\">X[1] &lt;= 0.209</text>\r\n",
       "<text text-anchor=\"middle\" x=\"287\" y=\"-230.8\" font-family=\"Times New Roman,serif\" font-size=\"14.00\">mse = 107783.633</text>\r\n",
       "<text text-anchor=\"middle\" x=\"287\" y=\"-215.8\" font-family=\"Times New Roman,serif\" font-size=\"14.00\">samples = 5</text>\r\n",
       "<text text-anchor=\"middle\" x=\"287\" y=\"-200.8\" font-family=\"Times New Roman,serif\" font-size=\"14.00\">value = 1132.286</text>\r\n",
       "</g>\r\n",
       "<!-- 5&#45;&gt;6 -->\r\n",
       "<g id=\"edge6\" class=\"edge\">\r\n",
       "<title>5&#45;&gt;6</title>\r\n",
       "<path fill=\"none\" stroke=\"black\" d=\"M336.97,-296.88C330.64,-288.15 323.73,-278.62 317.12,-269.51\"/>\r\n",
       "<polygon fill=\"black\" stroke=\"black\" points=\"319.86,-267.34 311.16,-261.3 314.2,-271.45 319.86,-267.34\"/>\r\n",
       "</g>\r\n",
       "<!-- 13 -->\r\n",
       "<g id=\"node14\" class=\"node\">\r\n",
       "<title>13</title>\r\n",
       "<polygon fill=\"none\" stroke=\"black\" points=\"483.5,-261 364.5,-261 364.5,-193 483.5,-193 483.5,-261\"/>\r\n",
       "<text text-anchor=\"middle\" x=\"424\" y=\"-245.8\" font-family=\"Times New Roman,serif\" font-size=\"14.00\">X[1] &lt;= 0.209</text>\r\n",
       "<text text-anchor=\"middle\" x=\"424\" y=\"-230.8\" font-family=\"Times New Roman,serif\" font-size=\"14.00\">mse = 108172.719</text>\r\n",
       "<text text-anchor=\"middle\" x=\"424\" y=\"-215.8\" font-family=\"Times New Roman,serif\" font-size=\"14.00\">samples = 15</text>\r\n",
       "<text text-anchor=\"middle\" x=\"424\" y=\"-200.8\" font-family=\"Times New Roman,serif\" font-size=\"14.00\">value = 871.909</text>\r\n",
       "</g>\r\n",
       "<!-- 5&#45;&gt;13 -->\r\n",
       "<g id=\"edge13\" class=\"edge\">\r\n",
       "<title>5&#45;&gt;13</title>\r\n",
       "<path fill=\"none\" stroke=\"black\" d=\"M381.45,-296.88C386.74,-288.33 392.49,-279.01 398.01,-270.07\"/>\r\n",
       "<polygon fill=\"black\" stroke=\"black\" points=\"401.16,-271.65 403.43,-261.3 395.2,-267.97 401.16,-271.65\"/>\r\n",
       "</g>\r\n",
       "<!-- 7 -->\r\n",
       "<g id=\"node8\" class=\"node\">\r\n",
       "<title>7</title>\r\n",
       "<polygon fill=\"none\" stroke=\"black\" points=\"217,-157 111,-157 111,-89 217,-89 217,-157\"/>\r\n",
       "<text text-anchor=\"middle\" x=\"164\" y=\"-141.8\" font-family=\"Times New Roman,serif\" font-size=\"14.00\">X[0] &lt;= 1.5</text>\r\n",
       "<text text-anchor=\"middle\" x=\"164\" y=\"-126.8\" font-family=\"Times New Roman,serif\" font-size=\"14.00\">mse = 176400.0</text>\r\n",
       "<text text-anchor=\"middle\" x=\"164\" y=\"-111.8\" font-family=\"Times New Roman,serif\" font-size=\"14.00\">samples = 2</text>\r\n",
       "<text text-anchor=\"middle\" x=\"164\" y=\"-96.8\" font-family=\"Times New Roman,serif\" font-size=\"14.00\">value = 1390.0</text>\r\n",
       "</g>\r\n",
       "<!-- 6&#45;&gt;7 -->\r\n",
       "<g id=\"edge7\" class=\"edge\">\r\n",
       "<title>6&#45;&gt;7</title>\r\n",
       "<path fill=\"none\" stroke=\"black\" d=\"M247.07,-192.88C235.89,-183.62 223.64,-173.45 212.05,-163.85\"/>\r\n",
       "<polygon fill=\"black\" stroke=\"black\" points=\"214.09,-160.99 204.16,-157.3 209.62,-166.38 214.09,-160.99\"/>\r\n",
       "</g>\r\n",
       "<!-- 10 -->\r\n",
       "<g id=\"node11\" class=\"node\">\r\n",
       "<title>10</title>\r\n",
       "<polygon fill=\"none\" stroke=\"black\" points=\"341,-157 235,-157 235,-89 341,-89 341,-157\"/>\r\n",
       "<text text-anchor=\"middle\" x=\"288\" y=\"-141.8\" font-family=\"Times New Roman,serif\" font-size=\"14.00\">X[0] &lt;= 1.5</text>\r\n",
       "<text text-anchor=\"middle\" x=\"288\" y=\"-126.8\" font-family=\"Times New Roman,serif\" font-size=\"14.00\">mse = 43143.76</text>\r\n",
       "<text text-anchor=\"middle\" x=\"288\" y=\"-111.8\" font-family=\"Times New Roman,serif\" font-size=\"14.00\">samples = 3</text>\r\n",
       "<text text-anchor=\"middle\" x=\"288\" y=\"-96.8\" font-family=\"Times New Roman,serif\" font-size=\"14.00\">value = 1029.2</text>\r\n",
       "</g>\r\n",
       "<!-- 6&#45;&gt;10 -->\r\n",
       "<g id=\"edge10\" class=\"edge\">\r\n",
       "<title>6&#45;&gt;10</title>\r\n",
       "<path fill=\"none\" stroke=\"black\" d=\"M287.32,-192.88C287.4,-184.78 287.49,-175.98 287.57,-167.47\"/>\r\n",
       "<polygon fill=\"black\" stroke=\"black\" points=\"291.08,-167.33 287.67,-157.3 284.08,-167.26 291.08,-167.33\"/>\r\n",
       "</g>\r\n",
       "<!-- 8 -->\r\n",
       "<g id=\"node9\" class=\"node\">\r\n",
       "<title>8</title>\r\n",
       "<polygon fill=\"none\" stroke=\"black\" points=\"99,-53 7,-53 7,0 99,0 99,-53\"/>\r\n",
       "<text text-anchor=\"middle\" x=\"53\" y=\"-37.8\" font-family=\"Times New Roman,serif\" font-size=\"14.00\">mse = 0.0</text>\r\n",
       "<text text-anchor=\"middle\" x=\"53\" y=\"-22.8\" font-family=\"Times New Roman,serif\" font-size=\"14.00\">samples = 1</text>\r\n",
       "<text text-anchor=\"middle\" x=\"53\" y=\"-7.8\" font-family=\"Times New Roman,serif\" font-size=\"14.00\">value = 970.0</text>\r\n",
       "</g>\r\n",
       "<!-- 7&#45;&gt;8 -->\r\n",
       "<g id=\"edge8\" class=\"edge\">\r\n",
       "<title>7&#45;&gt;8</title>\r\n",
       "<path fill=\"none\" stroke=\"black\" d=\"M125.18,-88.95C114.11,-79.53 102.07,-69.27 91.05,-59.89\"/>\r\n",
       "<polygon fill=\"black\" stroke=\"black\" points=\"93.11,-57.05 83.23,-53.24 88.58,-62.38 93.11,-57.05\"/>\r\n",
       "</g>\r\n",
       "<!-- 9 -->\r\n",
       "<g id=\"node10\" class=\"node\">\r\n",
       "<title>9</title>\r\n",
       "<polygon fill=\"none\" stroke=\"black\" points=\"215,-53 117,-53 117,0 215,0 215,-53\"/>\r\n",
       "<text text-anchor=\"middle\" x=\"166\" y=\"-37.8\" font-family=\"Times New Roman,serif\" font-size=\"14.00\">mse = 0.0</text>\r\n",
       "<text text-anchor=\"middle\" x=\"166\" y=\"-22.8\" font-family=\"Times New Roman,serif\" font-size=\"14.00\">samples = 1</text>\r\n",
       "<text text-anchor=\"middle\" x=\"166\" y=\"-7.8\" font-family=\"Times New Roman,serif\" font-size=\"14.00\">value = 1810.0</text>\r\n",
       "</g>\r\n",
       "<!-- 7&#45;&gt;9 -->\r\n",
       "<g id=\"edge9\" class=\"edge\">\r\n",
       "<title>7&#45;&gt;9</title>\r\n",
       "<path fill=\"none\" stroke=\"black\" d=\"M164.7,-88.95C164.87,-80.72 165.06,-71.85 165.24,-63.48\"/>\r\n",
       "<polygon fill=\"black\" stroke=\"black\" points=\"168.74,-63.31 165.46,-53.24 161.74,-63.16 168.74,-63.31\"/>\r\n",
       "</g>\r\n",
       "<!-- 11 -->\r\n",
       "<g id=\"node12\" class=\"node\">\r\n",
       "<title>11</title>\r\n",
       "<polygon fill=\"none\" stroke=\"black\" points=\"335,-53 237,-53 237,0 335,0 335,-53\"/>\r\n",
       "<text text-anchor=\"middle\" x=\"286\" y=\"-37.8\" font-family=\"Times New Roman,serif\" font-size=\"14.00\">mse = 3025.0</text>\r\n",
       "<text text-anchor=\"middle\" x=\"286\" y=\"-22.8\" font-family=\"Times New Roman,serif\" font-size=\"14.00\">samples = 2</text>\r\n",
       "<text text-anchor=\"middle\" x=\"286\" y=\"-7.8\" font-family=\"Times New Roman,serif\" font-size=\"14.00\">value = 1280.0</text>\r\n",
       "</g>\r\n",
       "<!-- 10&#45;&gt;11 -->\r\n",
       "<g id=\"edge11\" class=\"edge\">\r\n",
       "<title>10&#45;&gt;11</title>\r\n",
       "<path fill=\"none\" stroke=\"black\" d=\"M287.3,-88.95C287.13,-80.72 286.94,-71.85 286.76,-63.48\"/>\r\n",
       "<polygon fill=\"black\" stroke=\"black\" points=\"290.26,-63.16 286.54,-53.24 283.26,-63.31 290.26,-63.16\"/>\r\n",
       "</g>\r\n",
       "<!-- 12 -->\r\n",
       "<g id=\"node13\" class=\"node\">\r\n",
       "<title>12</title>\r\n",
       "<polygon fill=\"none\" stroke=\"black\" points=\"445,-53 353,-53 353,0 445,0 445,-53\"/>\r\n",
       "<text text-anchor=\"middle\" x=\"399\" y=\"-37.8\" font-family=\"Times New Roman,serif\" font-size=\"14.00\">mse = 0.0</text>\r\n",
       "<text text-anchor=\"middle\" x=\"399\" y=\"-22.8\" font-family=\"Times New Roman,serif\" font-size=\"14.00\">samples = 1</text>\r\n",
       "<text text-anchor=\"middle\" x=\"399\" y=\"-7.8\" font-family=\"Times New Roman,serif\" font-size=\"14.00\">value = 862.0</text>\r\n",
       "</g>\r\n",
       "<!-- 10&#45;&gt;12 -->\r\n",
       "<g id=\"edge12\" class=\"edge\">\r\n",
       "<title>10&#45;&gt;12</title>\r\n",
       "<path fill=\"none\" stroke=\"black\" d=\"M326.82,-88.95C337.89,-79.53 349.93,-69.27 360.95,-59.89\"/>\r\n",
       "<polygon fill=\"black\" stroke=\"black\" points=\"363.42,-62.38 368.77,-53.24 358.89,-57.05 363.42,-62.38\"/>\r\n",
       "</g>\r\n",
       "<!-- 14 -->\r\n",
       "<g id=\"node15\" class=\"node\">\r\n",
       "<title>14</title>\r\n",
       "<polygon fill=\"none\" stroke=\"black\" points=\"480.5,-149.5 361.5,-149.5 361.5,-96.5 480.5,-96.5 480.5,-149.5\"/>\r\n",
       "<text text-anchor=\"middle\" x=\"421\" y=\"-134.3\" font-family=\"Times New Roman,serif\" font-size=\"14.00\">mse = 133598.852</text>\r\n",
       "<text text-anchor=\"middle\" x=\"421\" y=\"-119.3\" font-family=\"Times New Roman,serif\" font-size=\"14.00\">samples = 8</text>\r\n",
       "<text text-anchor=\"middle\" x=\"421\" y=\"-104.3\" font-family=\"Times New Roman,serif\" font-size=\"14.00\">value = 942.615</text>\r\n",
       "</g>\r\n",
       "<!-- 13&#45;&gt;14 -->\r\n",
       "<g id=\"edge14\" class=\"edge\">\r\n",
       "<title>13&#45;&gt;14</title>\r\n",
       "<path fill=\"none\" stroke=\"black\" d=\"M423.03,-192.88C422.71,-182.22 422.36,-170.35 422.04,-159.52\"/>\r\n",
       "<polygon fill=\"black\" stroke=\"black\" points=\"425.54,-159.41 421.75,-149.52 418.55,-159.62 425.54,-159.41\"/>\r\n",
       "</g>\r\n",
       "<!-- 15 -->\r\n",
       "<g id=\"node16\" class=\"node\">\r\n",
       "<title>15</title>\r\n",
       "<polygon fill=\"none\" stroke=\"black\" points=\"611.5,-149.5 498.5,-149.5 498.5,-96.5 611.5,-96.5 611.5,-149.5\"/>\r\n",
       "<text text-anchor=\"middle\" x=\"555\" y=\"-134.3\" font-family=\"Times New Roman,serif\" font-size=\"14.00\">mse = 53793.951</text>\r\n",
       "<text text-anchor=\"middle\" x=\"555\" y=\"-119.3\" font-family=\"Times New Roman,serif\" font-size=\"14.00\">samples = 7</text>\r\n",
       "<text text-anchor=\"middle\" x=\"555\" y=\"-104.3\" font-family=\"Times New Roman,serif\" font-size=\"14.00\">value = 769.778</text>\r\n",
       "</g>\r\n",
       "<!-- 13&#45;&gt;15 -->\r\n",
       "<g id=\"edge15\" class=\"edge\">\r\n",
       "<title>13&#45;&gt;15</title>\r\n",
       "<path fill=\"none\" stroke=\"black\" d=\"M466.53,-192.88C481.79,-181.01 498.94,-167.65 514.06,-155.88\"/>\r\n",
       "<polygon fill=\"black\" stroke=\"black\" points=\"516.48,-158.43 522.22,-149.52 512.18,-152.9 516.48,-158.43\"/>\r\n",
       "</g>\r\n",
       "<!-- 17 -->\r\n",
       "<g id=\"node18\" class=\"node\">\r\n",
       "<title>17</title>\r\n",
       "<polygon fill=\"none\" stroke=\"black\" points=\"684.5,-365 565.5,-365 565.5,-297 684.5,-297 684.5,-365\"/>\r\n",
       "<text text-anchor=\"middle\" x=\"625\" y=\"-349.8\" font-family=\"Times New Roman,serif\" font-size=\"14.00\">X[0] &lt;= 2.5</text>\r\n",
       "<text text-anchor=\"middle\" x=\"625\" y=\"-334.8\" font-family=\"Times New Roman,serif\" font-size=\"14.00\">mse = 229003.243</text>\r\n",
       "<text text-anchor=\"middle\" x=\"625\" y=\"-319.8\" font-family=\"Times New Roman,serif\" font-size=\"14.00\">samples = 7</text>\r\n",
       "<text text-anchor=\"middle\" x=\"625\" y=\"-304.8\" font-family=\"Times New Roman,serif\" font-size=\"14.00\">value = 1409.083</text>\r\n",
       "</g>\r\n",
       "<!-- 16&#45;&gt;17 -->\r\n",
       "<g id=\"edge17\" class=\"edge\">\r\n",
       "<title>16&#45;&gt;17</title>\r\n",
       "<path fill=\"none\" stroke=\"black\" d=\"M625,-400.88C625,-392.78 625,-383.98 625,-375.47\"/>\r\n",
       "<polygon fill=\"black\" stroke=\"black\" points=\"628.5,-375.3 625,-365.3 621.5,-375.3 628.5,-375.3\"/>\r\n",
       "</g>\r\n",
       "<!-- 20 -->\r\n",
       "<g id=\"node21\" class=\"node\">\r\n",
       "<title>20</title>\r\n",
       "<polygon fill=\"none\" stroke=\"black\" points=\"888.5,-365 769.5,-365 769.5,-297 888.5,-297 888.5,-365\"/>\r\n",
       "<text text-anchor=\"middle\" x=\"829\" y=\"-349.8\" font-family=\"Times New Roman,serif\" font-size=\"14.00\">X[0] &lt;= 0.5</text>\r\n",
       "<text text-anchor=\"middle\" x=\"829\" y=\"-334.8\" font-family=\"Times New Roman,serif\" font-size=\"14.00\">mse = 728584.765</text>\r\n",
       "<text text-anchor=\"middle\" x=\"829\" y=\"-319.8\" font-family=\"Times New Roman,serif\" font-size=\"14.00\">samples = 12</text>\r\n",
       "<text text-anchor=\"middle\" x=\"829\" y=\"-304.8\" font-family=\"Times New Roman,serif\" font-size=\"14.00\">value = 2210.889</text>\r\n",
       "</g>\r\n",
       "<!-- 16&#45;&gt;20 -->\r\n",
       "<g id=\"edge20\" class=\"edge\">\r\n",
       "<title>16&#45;&gt;20</title>\r\n",
       "<path fill=\"none\" stroke=\"black\" d=\"M684.55,-404.22C708.23,-392.39 735.61,-378.7 760.13,-366.44\"/>\r\n",
       "<polygon fill=\"black\" stroke=\"black\" points=\"761.99,-369.42 769.37,-361.81 758.86,-363.16 761.99,-369.42\"/>\r\n",
       "</g>\r\n",
       "<!-- 18 -->\r\n",
       "<g id=\"node19\" class=\"node\">\r\n",
       "<title>18</title>\r\n",
       "<polygon fill=\"none\" stroke=\"black\" points=\"614,-253.5 502,-253.5 502,-200.5 614,-200.5 614,-253.5\"/>\r\n",
       "<text text-anchor=\"middle\" x=\"558\" y=\"-238.3\" font-family=\"Times New Roman,serif\" font-size=\"14.00\">mse = 1605.556</text>\r\n",
       "<text text-anchor=\"middle\" x=\"558\" y=\"-223.3\" font-family=\"Times New Roman,serif\" font-size=\"14.00\">samples = 2</text>\r\n",
       "<text text-anchor=\"middle\" x=\"558\" y=\"-208.3\" font-family=\"Times New Roman,serif\" font-size=\"14.00\">value = 1778.333</text>\r\n",
       "</g>\r\n",
       "<!-- 17&#45;&gt;18 -->\r\n",
       "<g id=\"edge18\" class=\"edge\">\r\n",
       "<title>17&#45;&gt;18</title>\r\n",
       "<path fill=\"none\" stroke=\"black\" d=\"M603.25,-296.88C595.95,-285.78 587.8,-273.37 580.45,-262.18\"/>\r\n",
       "<polygon fill=\"black\" stroke=\"black\" points=\"583.18,-259.96 574.76,-253.52 577.33,-263.8 583.18,-259.96\"/>\r\n",
       "</g>\r\n",
       "<!-- 19 -->\r\n",
       "<g id=\"node20\" class=\"node\">\r\n",
       "<title>19</title>\r\n",
       "<polygon fill=\"none\" stroke=\"black\" points=\"751.5,-253.5 632.5,-253.5 632.5,-200.5 751.5,-200.5 751.5,-253.5\"/>\r\n",
       "<text text-anchor=\"middle\" x=\"692\" y=\"-238.3\" font-family=\"Times New Roman,serif\" font-size=\"14.00\">mse = 183709.806</text>\r\n",
       "<text text-anchor=\"middle\" x=\"692\" y=\"-223.3\" font-family=\"Times New Roman,serif\" font-size=\"14.00\">samples = 5</text>\r\n",
       "<text text-anchor=\"middle\" x=\"692\" y=\"-208.3\" font-family=\"Times New Roman,serif\" font-size=\"14.00\">value = 1039.833</text>\r\n",
       "</g>\r\n",
       "<!-- 17&#45;&gt;19 -->\r\n",
       "<g id=\"edge19\" class=\"edge\">\r\n",
       "<title>17&#45;&gt;19</title>\r\n",
       "<path fill=\"none\" stroke=\"black\" d=\"M646.75,-296.88C654.05,-285.78 662.2,-273.37 669.55,-262.18\"/>\r\n",
       "<polygon fill=\"black\" stroke=\"black\" points=\"672.67,-263.8 675.24,-253.52 666.82,-259.96 672.67,-263.8\"/>\r\n",
       "</g>\r\n",
       "<!-- 21 -->\r\n",
       "<g id=\"node22\" class=\"node\">\r\n",
       "<title>21</title>\r\n",
       "<polygon fill=\"none\" stroke=\"black\" points=\"888.5,-253.5 769.5,-253.5 769.5,-200.5 888.5,-200.5 888.5,-253.5\"/>\r\n",
       "<text text-anchor=\"middle\" x=\"829\" y=\"-238.3\" font-family=\"Times New Roman,serif\" font-size=\"14.00\">mse = 1098358.25</text>\r\n",
       "<text text-anchor=\"middle\" x=\"829\" y=\"-223.3\" font-family=\"Times New Roman,serif\" font-size=\"14.00\">samples = 3</text>\r\n",
       "<text text-anchor=\"middle\" x=\"829\" y=\"-208.3\" font-family=\"Times New Roman,serif\" font-size=\"14.00\">value = 2648.5</text>\r\n",
       "</g>\r\n",
       "<!-- 20&#45;&gt;21 -->\r\n",
       "<g id=\"edge21\" class=\"edge\">\r\n",
       "<title>20&#45;&gt;21</title>\r\n",
       "<path fill=\"none\" stroke=\"black\" d=\"M829,-296.88C829,-286.33 829,-274.6 829,-263.85\"/>\r\n",
       "<polygon fill=\"black\" stroke=\"black\" points=\"832.5,-263.52 829,-253.52 825.5,-263.52 832.5,-263.52\"/>\r\n",
       "</g>\r\n",
       "<!-- 22 -->\r\n",
       "<g id=\"node23\" class=\"node\">\r\n",
       "<title>22</title>\r\n",
       "<polygon fill=\"none\" stroke=\"black\" points=\"1019.5,-261 906.5,-261 906.5,-193 1019.5,-193 1019.5,-261\"/>\r\n",
       "<text text-anchor=\"middle\" x=\"963\" y=\"-245.8\" font-family=\"Times New Roman,serif\" font-size=\"14.00\">X[1] &lt;= 0.294</text>\r\n",
       "<text text-anchor=\"middle\" x=\"963\" y=\"-230.8\" font-family=\"Times New Roman,serif\" font-size=\"14.00\">mse = 552586.98</text>\r\n",
       "<text text-anchor=\"middle\" x=\"963\" y=\"-215.8\" font-family=\"Times New Roman,serif\" font-size=\"14.00\">samples = 9</text>\r\n",
       "<text text-anchor=\"middle\" x=\"963\" y=\"-200.8\" font-family=\"Times New Roman,serif\" font-size=\"14.00\">value = 2085.857</text>\r\n",
       "</g>\r\n",
       "<!-- 20&#45;&gt;22 -->\r\n",
       "<g id=\"edge22\" class=\"edge\">\r\n",
       "<title>20&#45;&gt;22</title>\r\n",
       "<path fill=\"none\" stroke=\"black\" d=\"M872.51,-296.88C884.79,-287.53 898.29,-277.26 911.02,-267.57\"/>\r\n",
       "<polygon fill=\"black\" stroke=\"black\" points=\"913.42,-270.14 919.25,-261.3 909.18,-264.57 913.42,-270.14\"/>\r\n",
       "</g>\r\n",
       "<!-- 23 -->\r\n",
       "<g id=\"node24\" class=\"node\">\r\n",
       "<title>23</title>\r\n",
       "<polygon fill=\"none\" stroke=\"black\" points=\"955.5,-157 836.5,-157 836.5,-89 955.5,-89 955.5,-157\"/>\r\n",
       "<text text-anchor=\"middle\" x=\"896\" y=\"-141.8\" font-family=\"Times New Roman,serif\" font-size=\"14.00\">X[2] &lt;= 0.5</text>\r\n",
       "<text text-anchor=\"middle\" x=\"896\" y=\"-126.8\" font-family=\"Times New Roman,serif\" font-size=\"14.00\">mse = 578442.793</text>\r\n",
       "<text text-anchor=\"middle\" x=\"896\" y=\"-111.8\" font-family=\"Times New Roman,serif\" font-size=\"14.00\">samples = 7</text>\r\n",
       "<text text-anchor=\"middle\" x=\"896\" y=\"-96.8\" font-family=\"Times New Roman,serif\" font-size=\"14.00\">value = 2246.545</text>\r\n",
       "</g>\r\n",
       "<!-- 22&#45;&gt;23 -->\r\n",
       "<g id=\"edge23\" class=\"edge\">\r\n",
       "<title>22&#45;&gt;23</title>\r\n",
       "<path fill=\"none\" stroke=\"black\" d=\"M941.25,-192.88C935.57,-184.24 929.38,-174.82 923.45,-165.79\"/>\r\n",
       "<polygon fill=\"black\" stroke=\"black\" points=\"926.29,-163.74 917.87,-157.3 920.44,-167.58 926.29,-163.74\"/>\r\n",
       "</g>\r\n",
       "<!-- 26 -->\r\n",
       "<g id=\"node27\" class=\"node\">\r\n",
       "<title>26</title>\r\n",
       "<polygon fill=\"none\" stroke=\"black\" points=\"1086.5,-149.5 973.5,-149.5 973.5,-96.5 1086.5,-96.5 1086.5,-149.5\"/>\r\n",
       "<text text-anchor=\"middle\" x=\"1030\" y=\"-134.3\" font-family=\"Times New Roman,serif\" font-size=\"14.00\">mse = 15960.889</text>\r\n",
       "<text text-anchor=\"middle\" x=\"1030\" y=\"-119.3\" font-family=\"Times New Roman,serif\" font-size=\"14.00\">samples = 2</text>\r\n",
       "<text text-anchor=\"middle\" x=\"1030\" y=\"-104.3\" font-family=\"Times New Roman,serif\" font-size=\"14.00\">value = 1496.667</text>\r\n",
       "</g>\r\n",
       "<!-- 22&#45;&gt;26 -->\r\n",
       "<g id=\"edge26\" class=\"edge\">\r\n",
       "<title>22&#45;&gt;26</title>\r\n",
       "<path fill=\"none\" stroke=\"black\" d=\"M984.75,-192.88C992.05,-181.78 1000.2,-169.37 1007.55,-158.18\"/>\r\n",
       "<polygon fill=\"black\" stroke=\"black\" points=\"1010.67,-159.8 1013.24,-149.52 1004.82,-155.96 1010.67,-159.8\"/>\r\n",
       "</g>\r\n",
       "<!-- 24 -->\r\n",
       "<g id=\"node25\" class=\"node\">\r\n",
       "<title>24</title>\r\n",
       "<polygon fill=\"none\" stroke=\"black\" points=\"885.5,-53 772.5,-53 772.5,0 885.5,0 885.5,-53\"/>\r\n",
       "<text text-anchor=\"middle\" x=\"829\" y=\"-37.8\" font-family=\"Times New Roman,serif\" font-size=\"14.00\">mse = 218979.04</text>\r\n",
       "<text text-anchor=\"middle\" x=\"829\" y=\"-22.8\" font-family=\"Times New Roman,serif\" font-size=\"14.00\">samples = 3</text>\r\n",
       "<text text-anchor=\"middle\" x=\"829\" y=\"-7.8\" font-family=\"Times New Roman,serif\" font-size=\"14.00\">value = 1902.6</text>\r\n",
       "</g>\r\n",
       "<!-- 23&#45;&gt;24 -->\r\n",
       "<g id=\"edge24\" class=\"edge\">\r\n",
       "<title>23&#45;&gt;24</title>\r\n",
       "<path fill=\"none\" stroke=\"black\" d=\"M872.57,-88.95C866.28,-80.07 859.46,-70.46 853.13,-61.54\"/>\r\n",
       "<polygon fill=\"black\" stroke=\"black\" points=\"855.89,-59.37 847.25,-53.24 850.18,-63.42 855.89,-59.37\"/>\r\n",
       "</g>\r\n",
       "<!-- 25 -->\r\n",
       "<g id=\"node26\" class=\"node\">\r\n",
       "<title>25</title>\r\n",
       "<polygon fill=\"none\" stroke=\"black\" points=\"1022.5,-53 903.5,-53 903.5,0 1022.5,0 1022.5,-53\"/>\r\n",
       "<text text-anchor=\"middle\" x=\"963\" y=\"-37.8\" font-family=\"Times New Roman,serif\" font-size=\"14.00\">mse = 697262.139</text>\r\n",
       "<text text-anchor=\"middle\" x=\"963\" y=\"-22.8\" font-family=\"Times New Roman,serif\" font-size=\"14.00\">samples = 4</text>\r\n",
       "<text text-anchor=\"middle\" x=\"963\" y=\"-7.8\" font-family=\"Times New Roman,serif\" font-size=\"14.00\">value = 2533.167</text>\r\n",
       "</g>\r\n",
       "<!-- 23&#45;&gt;25 -->\r\n",
       "<g id=\"edge25\" class=\"edge\">\r\n",
       "<title>23&#45;&gt;25</title>\r\n",
       "<path fill=\"none\" stroke=\"black\" d=\"M919.43,-88.95C925.72,-80.07 932.54,-70.46 938.87,-61.54\"/>\r\n",
       "<polygon fill=\"black\" stroke=\"black\" points=\"941.82,-63.42 944.75,-53.24 936.11,-59.37 941.82,-63.42\"/>\r\n",
       "</g>\r\n",
       "</g>\r\n",
       "</svg>\r\n"
      ],
      "text/plain": [
       "<graphviz.files.Source at 0x1f05c3de1c0>"
      ]
     },
     "metadata": {},
     "output_type": "display_data"
    }
   ],
   "source": [
    "from sklearn.tree import export_graphviz\n",
    "import graphviz\n",
    "\n",
    "export_graphviz(decision_tree=model_rf.estimators_[30],\n",
    "                out_file=\"tree.dot\",\n",
    "                impurity=True)\n",
    "with open(\"tree.dot\") as f:\n",
    "    dot_graph = f.read()\n",
    "display(graphviz.Source(dot_graph))"
   ]
  },
  {
   "cell_type": "markdown",
   "metadata": {},
   "source": [
    "# 모델 저장"
   ]
  },
  {
   "cell_type": "code",
   "execution_count": 40,
   "metadata": {},
   "outputs": [],
   "source": [
    "import pickle"
   ]
  },
  {
   "cell_type": "code",
   "execution_count": 41,
   "metadata": {},
   "outputs": [],
   "source": [
    "filename = 'finalized_model.sav'\n",
    "pickle.dump(model_dt, open(filename, 'wb'))"
   ]
  },
  {
   "cell_type": "code",
   "execution_count": null,
   "metadata": {},
   "outputs": [],
   "source": []
  }
 ],
 "metadata": {
  "kernelspec": {
   "display_name": "Python 3",
   "language": "python",
   "name": "python3"
  },
  "language_info": {
   "codemirror_mode": {
    "name": "ipython",
    "version": 3
   },
   "file_extension": ".py",
   "mimetype": "text/x-python",
   "name": "python",
   "nbconvert_exporter": "python",
   "pygments_lexer": "ipython3",
   "version": "3.8.8"
  }
 },
 "nbformat": 4,
 "nbformat_minor": 4
}
