{
 "cells": [
  {
   "cell_type": "markdown",
   "metadata": {},
   "source": [
    "### 0. Pandas 데이터프레임"
   ]
  },
  {
   "cell_type": "code",
   "execution_count": null,
   "metadata": {},
   "outputs": [],
   "source": [
    "import pandas as pd"
   ]
  },
  {
   "cell_type": "markdown",
   "metadata": {},
   "source": [
    "### 0-1. 리스트에서 데이터프레임 생성"
   ]
  },
  {
   "cell_type": "code",
   "execution_count": null,
   "metadata": {},
   "outputs": [],
   "source": [
    "rowFirst = [\"A01\", 202015, 100]\n",
    "rowSecond = [\"A01\", 202016, 100]\n",
    "rowThird = [\"A01\", 202017, 100]"
   ]
  },
  {
   "cell_type": "code",
   "execution_count": null,
   "metadata": {},
   "outputs": [],
   "source": [
    "df1 = pd.DataFrame( [rowFirst, rowSecond, rowThird] )"
   ]
  },
  {
   "cell_type": "code",
   "execution_count": null,
   "metadata": {},
   "outputs": [],
   "source": [
    "df1.columns = [\"REGIONID\", \"YEARWEEK, \"QTY\"]"
   ]
  },
  {
   "cell_type": "code",
   "execution_count": null,
   "metadata": {},
   "outputs": [],
   "source": [
    "columnNameList = [\"regionid\", \"yearweek\", \"qty\"]"
   ]
  },
  {
   "cell_type": "code",
   "execution_count": null,
   "metadata": {},
   "outputs": [],
   "source": [
    "df1"
   ]
  },
  {
   "cell_type": "code",
   "execution_count": null,
   "metadata": {},
   "outputs": [],
   "source": [
    "columnFirst = [\"A0\", \"A01\", \"A01\"]\n",
    "columnSecond = [202015,202016,202017]\n",
    "columnThird = [100,110,150]"
   ]
  },
  {
   "cell_type": "code",
   "execution_count": null,
   "metadata": {},
   "outputs": [],
   "source": [
    "pd.DataFrame( (zip(columnFirst, columnSecond, columnThird)))"
   ]
  },
  {
   "cell_type": "code",
   "execution_count": null,
   "metadata": {},
   "outputs": [],
   "source": [
    "pd.DataFrame( (zip(columnFirst, columnSecond, columnThird) )"
   ]
  },
  {
   "cell_type": "code",
   "execution_count": null,
   "metadata": {},
   "outputs": [],
   "source": [
    "df2.columns = columnNameList"
   ]
  },
  {
   "cell_type": "code",
   "execution_count": null,
   "metadata": {},
   "outputs": [],
   "source": [
    "df2"
   ]
  },
  {
   "cell_type": "markdown",
   "metadata": {},
   "source": [
    "### 1. 라이브러리 선언"
   ]
  },
  {
   "cell_type": "code",
   "execution_count": 1,
   "metadata": {},
   "outputs": [],
   "source": [
    "from bs4 import BeautifulSoup\n",
    "import requests"
   ]
  },
  {
   "cell_type": "markdown",
   "metadata": {},
   "source": [
    "### 2. 타겟 URL 선언 및 접속"
   ]
  },
  {
   "cell_type": "code",
   "execution_count": 2,
   "metadata": {},
   "outputs": [],
   "source": [
    "targetUrl = \"http://www.sparkkorea.com/퀴즈\"\n",
    "\n",
    "resp = requests.get(url=targetUrl)\n",
    "\n",
    "resp.encoding = \"utf-8\"\n",
    "\n",
    "##### 원 소스전부 스크랩\n",
    "\n",
    "html = resp.text\n",
    "\n",
    "##### 데이터 정제 html.parse\n",
    "\n",
    "htmlObj = BeautifulSoup(html, \"html.parser\")\n",
    "\n",
    "### 3. 태그 값 접근\n",
    "\n",
    "htmlObj.findAll(name=\"a\")\n",
    "\n",
    "##### find > 계속 범위를 좁히기 / findAll을 활용 반복해서 수집\n",
    "\n",
    "targetParent = htmlObj.find(name=\"div\", attrs = {\"id\":\"id_spark_quiz\"})\n",
    "\n",
    "valueList = []\n",
    "\n",
    "atags = targetParent.findAll(name=\"a\")"
   ]
  },
  {
   "cell_type": "code",
   "execution_count": null,
   "metadata": {},
   "outputs": [],
   "source": [
    "# 1\n",
    "#eachTag = atags[0]\n",
    "#valueList.append(tagText)\n",
    "#valueList"
   ]
  },
  {
   "cell_type": "code",
   "execution_count": 8,
   "metadata": {},
   "outputs": [],
   "source": [
    "eachTag = targetParent.find(name=\"a\")"
   ]
  },
  {
   "cell_type": "code",
   "execution_count": 9,
   "metadata": {},
   "outputs": [
    {
     "data": {
      "text/plain": [
       "' 6/13 Spark 심화과정 '"
      ]
     },
     "execution_count": 9,
     "metadata": {},
     "output_type": "execute_result"
    }
   ],
   "source": [
    "eachTag.name\n",
    "eachTag.text"
   ]
  },
  {
   "cell_type": "code",
   "execution_count": 21,
   "metadata": {},
   "outputs": [],
   "source": [
    "for i in range(0, len(atags)):\n",
    "    #각 태그정보 수집\n",
    "    eachTag = atags[i]\n",
    "    tagText = eachTag.text\n",
    "    valueList.append(tagText)"
   ]
  },
  {
   "cell_type": "code",
   "execution_count": 14,
   "metadata": {},
   "outputs": [],
   "source": [
    "link = eachTag.attrs[\"href\"]"
   ]
  },
  {
   "cell_type": "code",
   "execution_count": 15,
   "metadata": {},
   "outputs": [
    {
     "data": {
      "text/plain": [
       "'https://forms.gle/Gxb4y6LfVYiaLu4M7'"
      ]
     },
     "execution_count": 15,
     "metadata": {},
     "output_type": "execute_result"
    }
   ],
   "source": [
    "link"
   ]
  },
  {
   "cell_type": "code",
   "execution_count": 16,
   "metadata": {},
   "outputs": [],
   "source": [
    "linkTag = link[i]"
   ]
  },
  {
   "cell_type": "code",
   "execution_count": 19,
   "metadata": {},
   "outputs": [],
   "source": [
    "linkList = []"
   ]
  },
  {
   "cell_type": "code",
   "execution_count": 20,
   "metadata": {},
   "outputs": [],
   "source": [
    "linkList.append(linkTag)"
   ]
  },
  {
   "cell_type": "code",
   "execution_count": 11,
   "metadata": {},
   "outputs": [
    {
     "data": {
      "text/plain": [
       "[' 6/13 Spark 심화과정 ',\n",
       " ' 6/13 Spark 기본과정 ',\n",
       " ' 6/18 Spark [MAP_FILTER] ',\n",
       " ' 6/18 Spark GroupBy 심화 ',\n",
       " ' 6/25 Spark RDD 실전 분석 ',\n",
       " ' 6/27 Spark RDD 실전 분석2 ']"
      ]
     },
     "execution_count": 11,
     "metadata": {},
     "output_type": "execute_result"
    }
   ],
   "source": [
    "    # 리스트에 태그내 text 정보 append\n",
    "    valueList"
   ]
  },
  {
   "cell_type": "markdown",
   "metadata": {},
   "source": [
    "##### a태그에는 href라는 속성이 있고 href 속성의 값은 https://... => div 태그가 있고 id라는 속성에 id_spark_quiz"
   ]
  },
  {
   "cell_type": "code",
   "execution_count": 1,
   "metadata": {},
   "outputs": [
    {
     "data": {
      "text/plain": [
       "[[' 6/13 Spark 심화과정 ', 'a', 'https://forms.gle/Fw49w9GhWQChDcZm7'],\n",
       " [],\n",
       " [],\n",
       " [],\n",
       " [],\n",
       " []]"
      ]
     },
     "execution_count": 1,
     "metadata": {},
     "output_type": "execute_result"
    }
   ],
   "source": [
    "from bs4 import BeautifulSoup\n",
    "import requests\n",
    "\n",
    "targetUrl = \"http://www.sparkkorea.com/퀴즈\"\n",
    "resp = requests.get(url=targetUrl)\n",
    "resp.encoding = \"utf-8\"\n",
    "\n",
    "html = resp.text\n",
    "htmlObj = BeautifulSoup(html, \"html.parser\")\n",
    "htmlObj.findAll(name=\"a\")\n",
    "\n",
    "targetParent = htmlObj.find(name=\"div\", attrs = {\"id\":\"id_spark_quiz\"})\n",
    "\n",
    "atags = targetParent.findAll(name=\"a\")\n",
    "\n",
    "eachTag = targetParent.find(name=\"a\")\n",
    "\n",
    "rowList = []\n",
    "columnList = []\n",
    "\n",
    "columnList.append(eachTag.text)\n",
    "columnList.append(eachTag.name)\n",
    "columnList.append(eachTag.attrs[\"href\"])\n",
    "\n",
    "for i in range(0, len(atags)):\n",
    "    eachTag = atags[i].findAll(name=\"a\")\n",
    "    for j in range(0, len(eachTag)):\n",
    "        if i ==0:\n",
    "            columnNameList.append(eachTag[i].name)\n",
    "        eachColumn = eachTag[j].text\n",
    "        columnList.append(eachColumn)\n",
    "    rowList.append(columnList)\n",
    "\n",
    "    columnList = []\n",
    "\n",
    "# 리스트에 태그내 text 정보 append\n",
    "rowList"
   ]
  },
  {
   "cell_type": "code",
   "execution_count": 2,
   "metadata": {},
   "outputs": [],
   "source": [
    "from bs4 import BeautifulSoup\n",
    "import requests\n",
    "\n",
    "targetUrl = \"http://www.sparkkorea.com/퀴즈\"\n",
    "resp = requests.get(url=targetUrl)\n",
    "resp.encoding = \"utf-8\"\n",
    "\n",
    "html = resp.text\n",
    "htmlObj = BeautifulSoup(html, \"html.parser\")\n",
    "htmlObj.findAll(name=\"a\")\n",
    "\n",
    "targetParent = htmlObj.find(name=\"div\", attrs = {\"id\":\"id_spark_quiz\"})\n",
    "\n",
    "atags = targetParent.findAll(name=\"a\")\n",
    "\n",
    "eachTag = targetParent.find(name=\"a\")"
   ]
  },
  {
   "cell_type": "code",
   "execution_count": 3,
   "metadata": {},
   "outputs": [
    {
     "data": {
      "text/plain": [
       "[['101', '김효관'], ['102', '이순신'], ['103', '김어진']]"
      ]
     },
     "execution_count": 3,
     "metadata": {},
     "output_type": "execute_result"
    }
   ],
   "source": [
    "import requests, bs4\n",
    "import pandas as pd\n",
    "\n",
    "resp = requests.get(\"https://sparkkorea.com/테스트/\")\n",
    "resp.encoding='utf-8'\n",
    "html = resp.text\n",
    "bs = bs4.BeautifulSoup(html, 'html.parser')\n",
    "\n",
    "tabletag = bs.find(\"table\", {\"id\":\"test_table\"})\n",
    "\n",
    "tbodyTag = tabletag.find(\"tbody\")\n",
    "\n",
    "trs = tbodyTag.findAll(\"tr\")\n",
    "\n",
    "eachTrs = trs[0]\n",
    "\n",
    "tds = eachTrs.findAll(\"td\")\n",
    "\n",
    "rowList = []\n",
    "columnList = []\n",
    "\n",
    "for i in range(0,len(trs)):\n",
    "    eachTrs = trs[i]\n",
    "    tds = eachTrs.findAll(\"td\")\n",
    "    for j in range(0,len(tds)):\n",
    "        eachTd = tds[j]\n",
    "        columnList.append(eachTd.text)\n",
    "    rowList.append(columnList)\n",
    "    columnList = []\n",
    "\n",
    "rowList"
   ]
  },
  {
   "cell_type": "code",
   "execution_count": 3,
   "metadata": {},
   "outputs": [],
   "source": [
    "import requests, bs4\n",
    "import pandas as pd\n",
    "\n",
    "resp = requests.get(\"https://sparkkorea.com/테스트/\")\n",
    "resp.encoding='utf-8'\n",
    "html = resp.text\n",
    "bs = bs4.BeautifulSoup(html, 'html.parser')\n",
    "\n",
    "tabletag = bs.find(\"table\", {\"id\":\"test_table\"})\n",
    "rows = tabletag.find(\"tbody\").findAll(\"tr\")\n",
    "\n",
    "rowList=[]\n",
    "columnList =[]\n",
    "\n",
    "for i in range(0, len(rows)):\n",
    "    columns = rows[i].findAll(\"td\")\n",
    "    columnsLen = len(columns)\n",
    "    for j in range(0, columnsLen):\n",
    "        columnList.append(columns[j].text)\n",
    "\n",
    "    rowList.append(columnList)\n",
    "    columnList=[]\n",
    "\n",
    "rowList\n",
    "\n",
    "pd.DataFrame(rowList, columns =[\"학번\",\"이름\"])"
   ]
  }
 ],
 "metadata": {
  "kernelspec": {
   "display_name": "Python 3",
   "language": "python",
   "name": "python3"
  },
  "language_info": {
   "codemirror_mode": {
    "name": "ipython",
    "version": 3
   },
   "file_extension": ".py",
   "mimetype": "text/x-python",
   "name": "python",
   "nbconvert_exporter": "python",
   "pygments_lexer": "ipython3",
   "version": "3.8.3"
  }
 },
 "nbformat": 4,
 "nbformat_minor": 4
}
